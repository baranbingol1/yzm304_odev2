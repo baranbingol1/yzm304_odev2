{
 "cells": [
  {
   "cell_type": "markdown",
   "metadata": {},
   "source": [
    "## YZM304 Second Homework"
   ]
  },
  {
   "cell_type": "markdown",
   "metadata": {},
   "source": [
    "## Imports and loading data"
   ]
  },
  {
   "cell_type": "code",
   "execution_count": null,
   "metadata": {},
   "outputs": [
    {
     "name": "stdout",
     "output_type": "stream",
     "text": [
      "On device : cuda\n"
     ]
    }
   ],
   "source": [
    "import os\n",
    "import matplotlib.pyplot as plt\n",
    "import torch\n",
    "import torch.nn as nn\n",
    "import torchvision as tv\n",
    "import torchvision.datasets as datasets\n",
    "import torchvision.transforms as T\n",
    "import torch.nn.functional as F\n",
    "from torchsummary import summary\n",
    "import random\n",
    "import numpy as np\n",
    "\n",
    "device = \"cuda\" if torch.cuda.is_available() else \"cpu\"\n",
    "print(f\"On device : {device}\")"
   ]
  },
  {
   "cell_type": "code",
   "execution_count": null,
   "metadata": {},
   "outputs": [],
   "source": [
    "bs = 128\n",
    "num_workers = os.cpu_count() // 2\n",
    "\n",
    "# 0.1307 and 0.3081 is known normalization values for MNIST\n",
    "transform = T.Compose([T.Resize((32,32)), T.ToTensor(), T.Normalize((0.1307,), (0.3081,))])\n",
    "\n",
    "trainset = datasets.MNIST(root='./data', train=True, download=True, transform=transform)\n",
    "testset = datasets.MNIST(root='./data', train=False, download=True, transform=transform)\n",
    "\n",
    "trainloader = torch.utils.data.DataLoader(trainset, batch_size=bs, shuffle=True, num_workers=num_workers)\n",
    "testloader = torch.utils.data.DataLoader(testset, batch_size=bs, shuffle=False, num_workers=num_workers)"
   ]
  },
  {
   "cell_type": "code",
   "execution_count": 3,
   "metadata": {},
   "outputs": [
    {
     "data": {
      "image/png": "[encoded data removed]",
      "text/plain": [
       "<Figure size 1500x300 with 5 Axes>"
      ]
     },
     "metadata": {},
     "output_type": "display_data"
    }
   ],
   "source": [
    "data_iter = iter(trainloader)\n",
    "images, labels = next(data_iter)\n",
    "\n",
    "# plot the first 5 images\n",
    "fig, axes = plt.subplots(1, 5, figsize=(15, 3))\n",
    "for i in range(5):\n",
    "    img = images[i]\n",
    "    # if image is a tensor, convert to numpy and transpose if needed\n",
    "    if hasattr(img, 'numpy'):\n",
    "        img = img.numpy()\n",
    "    if img.shape[0] == 1:  # grayscale\n",
    "        img = img.squeeze(0)\n",
    "        axes[i].imshow(img, cmap='gray')\n",
    "    else:  # color\n",
    "        axes[i].imshow(img.transpose(1, 2, 0))\n",
    "    axes[i].set_title(f\"Label: {labels[i]}\")\n",
    "    axes[i].axis('off')\n",
    "plt.show()"
   ]
  },
  {
   "cell_type": "markdown",
   "metadata": {},
   "source": [
    "## LeNet5 Model"
   ]
  },
  {
   "cell_type": "code",
   "execution_count": 5,
   "metadata": {},
   "outputs": [
    {
     "name": "stdout",
     "output_type": "stream",
     "text": [
      "----------------------------------------------------------------\n",
      "        Layer (type)               Output Shape         Param #\n",
      "================================================================\n",
      "            Conv2d-1            [-1, 6, 28, 28]             156\n",
      "              Tanh-2            [-1, 6, 28, 28]               0\n",
      "         AvgPool2d-3            [-1, 6, 14, 14]               0\n",
      "            Conv2d-4           [-1, 16, 10, 10]           2,416\n",
      "              Tanh-5           [-1, 16, 10, 10]               0\n",
      "         AvgPool2d-6             [-1, 16, 5, 5]               0\n",
      "            Conv2d-7            [-1, 120, 1, 1]          48,120\n",
      "              Tanh-8            [-1, 120, 1, 1]               0\n",
      "            Linear-9                   [-1, 84]          10,164\n",
      "             Tanh-10                   [-1, 84]               0\n",
      "           Linear-11                   [-1, 10]             850\n",
      "================================================================\n",
      "Total params: 61,706\n",
      "Trainable params: 61,706\n",
      "Non-trainable params: 0\n",
      "----------------------------------------------------------------\n",
      "Input size (MB): 0.00\n",
      "Forward/backward pass size (MB): 0.11\n",
      "Params size (MB): 0.24\n",
      "Estimated Total Size (MB): 0.35\n",
      "----------------------------------------------------------------\n",
      "None\n"
     ]
    }
   ],
   "source": [
    "## LeNet5 Model\n",
    "\n",
    "class LeNet5(nn.Module):\n",
    "  def __init__(self):\n",
    "    super().__init__()\n",
    "    self.layer1 = nn.Sequential(\n",
    "        nn.Conv2d(in_channels=1, out_channels=6, kernel_size=5, stride=1),\n",
    "        nn.Tanh(),\n",
    "        nn.AvgPool2d(kernel_size=2, stride=2),\n",
    "\n",
    "        nn.Conv2d(in_channels=6, out_channels=16, kernel_size=5, stride=1),\n",
    "        nn.Tanh(),\n",
    "        nn.AvgPool2d(kernel_size=2, stride=2),\n",
    "\n",
    "        nn.Conv2d(in_channels=16, out_channels=120, kernel_size=5, stride=1),\n",
    "        nn.Tanh()\n",
    "        )\n",
    "    self.fc = nn.Sequential(\n",
    "        nn.Linear(120, 84),\n",
    "        nn.Tanh(),\n",
    "        nn.Linear(84, 10),\n",
    "    )\n",
    "\n",
    "  def forward(self, x):\n",
    "    x = self.layer1(x)\n",
    "    x = torch.flatten(x, 1)\n",
    "    x = self.fc(x)\n",
    "    x = F.softmax(x, dim=0)\n",
    "    return x\n",
    "\n",
    "model = LeNet5().to(device)\n",
    "\n",
    "# summary of the model\n",
    "print(summary(model, input_size=(1, 32, 32)))"
   ]
  },
  {
   "cell_type": "markdown",
   "metadata": {},
   "source": [
    "## Training Loop Function"
   ]
  },
  {
   "cell_type": "code",
   "execution_count": 10,
   "metadata": {},
   "outputs": [],
   "source": [
    "def set_seed(seed=42): # for reproducibility\n",
    "    random.seed(seed)\n",
    "    np.random.seed(seed)\n",
    "    torch.manual_seed(seed)\n",
    "    if torch.cuda.is_available():\n",
    "        torch.cuda.manual_seed_all(seed)\n",
    "        torch.backends.cudnn.deterministic = True\n",
    "        torch.backends.cudnn.benchmark = False\n",
    "\n",
    "def train_model(model, trainloader, testloader, criterion, optimizer, scheduler=None, num_epochs=10, device='cuda', seed=42):\n",
    "    set_seed(seed)\n",
    "    scaler = torch.cuda.amp.GradScaler() if device == 'cuda' else None # for mixed precision training.\n",
    "    train_losses = []\n",
    "    val_losses = []\n",
    "    val_accuracies = []\n",
    "\n",
    "    for epoch in range(num_epochs):\n",
    "        model.train()\n",
    "        train_loss_sum = 0.0\n",
    "\n",
    "        for i, (imgs, lbls) in enumerate(trainloader):\n",
    "            imgs, lbls = imgs.to(device), lbls.to(device)\n",
    "            optimizer.zero_grad()\n",
    "\n",
    "            # mixed precision training\n",
    "            if scaler is not None:\n",
    "                with torch.cuda.amp.autocast():\n",
    "                    outputs = model(imgs)\n",
    "                    loss = criterion(outputs, lbls)\n",
    "                train_loss_sum += loss.item()\n",
    "                scaler.scale(loss).backward()\n",
    "                scaler.step(optimizer)\n",
    "                scaler.update()\n",
    "            else:\n",
    "                outputs = model(imgs)\n",
    "                loss = criterion(outputs, lbls)\n",
    "                train_loss_sum += loss.item()\n",
    "                loss.backward()\n",
    "                optimizer.step()\n",
    "\n",
    "            if (i+1) % 400 == 0:\n",
    "                print('Epoch [{}/{}], Step [{}/{}], Train Loss: {:.4f}'\n",
    "                      .format(epoch+1, num_epochs, i+1, len(trainloader), loss.item()))\n",
    "\n",
    "        train_loss_avg = train_loss_sum / len(trainloader)\n",
    "        train_losses.append(train_loss_avg)\n",
    "\n",
    "        model.eval()\n",
    "        total_val_loss = 0\n",
    "        correct = 0\n",
    "        total = 0\n",
    "\n",
    "        with torch.inference_mode():\n",
    "            for val_imgs, val_lbls in testloader:\n",
    "                val_imgs, val_lbls = val_imgs.to(device), val_lbls.to(device)\n",
    "                val_outputs = model(val_imgs)\n",
    "                val_loss = criterion(val_outputs, val_lbls)\n",
    "                total_val_loss += val_loss.item()\n",
    "\n",
    "                _, predicted = val_outputs.max(1)\n",
    "                total += val_lbls.size(0)\n",
    "                correct += predicted.eq(val_lbls).sum().item()\n",
    "\n",
    "        val_accuracy = 100 * correct / total\n",
    "        avg_val_loss = total_val_loss / len(testloader)\n",
    "        val_losses.append(avg_val_loss)\n",
    "        val_accuracies.append(val_accuracy)\n",
    "\n",
    "        print('Validation - Epoch [{}/{}], Test Loss: {:.4f}, Test Accuracy: {:.2f}%'\n",
    "              .format(epoch+1, num_epochs, avg_val_loss, val_accuracy))\n",
    "\n",
    "        print('Epoch [{}/{}], Average Train Loss: {:.4f}'\n",
    "              .format(epoch+1, num_epochs, train_loss_avg))\n",
    "\n",
    "        if scheduler is not None:\n",
    "            scheduler.step()\n",
    "            current_lr = optimizer.param_groups[0]['lr']\n",
    "            print(f'Learning rate adjusted to: {current_lr:.6f}')\n",
    "\n",
    "    return train_losses, val_losses, val_accuracies"
   ]
  },
  {
   "cell_type": "markdown",
   "metadata": {},
   "source": [
    "## Training LeNet5"
   ]
  },
  {
   "cell_type": "code",
   "execution_count": 11,
   "metadata": {},
   "outputs": [
    {
     "name": "stdout",
     "output_type": "stream",
     "text": [
      "Epoch [1/5], Step [400/469], Train Loss: 2.2349\n",
      "Validation - Epoch [1/5], Test Loss: 2.2282, Test Accuracy: 88.35%\n",
      "Epoch [1/5], Average Train Loss: 2.2357\n",
      "Learning rate adjusted to: 0.004000\n",
      "Epoch [2/5], Step [400/469], Train Loss: 2.2350\n",
      "Validation - Epoch [2/5], Test Loss: 2.2278, Test Accuracy: 92.21%\n",
      "Epoch [2/5], Average Train Loss: 2.2339\n",
      "Learning rate adjusted to: 0.004002\n",
      "Epoch [3/5], Step [400/469], Train Loss: 2.2335\n",
      "Validation - Epoch [3/5], Test Loss: 2.2277, Test Accuracy: 93.64%\n",
      "Epoch [3/5], Average Train Loss: 2.2335\n",
      "Learning rate adjusted to: 0.004004\n",
      "Epoch [4/5], Step [400/469], Train Loss: 2.2335\n",
      "Validation - Epoch [4/5], Test Loss: 2.2277, Test Accuracy: 93.83%\n",
      "Epoch [4/5], Average Train Loss: 2.2335\n",
      "Learning rate adjusted to: 0.004008\n",
      "Epoch [5/5], Step [400/469], Train Loss: 2.2333\n",
      "Validation - Epoch [5/5], Test Loss: 2.2277, Test Accuracy: 93.95%\n",
      "Epoch [5/5], Average Train Loss: 2.2335\n",
      "Learning rate adjusted to: 0.004012\n"
     ]
    }
   ],
   "source": [
    "from torch.optim.lr_scheduler import OneCycleLR\n",
    "\n",
    "num_epochs = 5\n",
    "lr = 0.01\n",
    "\n",
    "optimizer = torch.optim.Adam(model.parameters(), lr=lr, betas=(0.9, 0.999), weight_decay=1e-4)\n",
    "criterion = nn.CrossEntropyLoss()\n",
    "\n",
    "# sets up a one cycle learning rate schedule: increases lr quickly to max_lr then decreases it using cosine annealing during training\n",
    "scheduler = OneCycleLR(\n",
    "    optimizer, \n",
    "    max_lr=lr*10,\n",
    "    total_steps=num_epochs * len(trainloader),\n",
    "    pct_start=0.3, \n",
    "    anneal_strategy='cos'\n",
    ")\n",
    "\n",
    "train_losses, val_losses, val_accuracies = train_model(model, trainloader, testloader, criterion, optimizer, scheduler=scheduler, num_epochs=num_epochs)"
   ]
  },
  {
   "cell_type": "code",
   "execution_count": 12,
   "metadata": {},
   "outputs": [
    {
     "data": {
      "image/png": "[encoded data removed]",
      "text/plain": [
       "<Figure size 640x480 with 1 Axes>"
      ]
     },
     "metadata": {},
     "output_type": "display_data"
    }
   ],
   "source": [
    "plt.plot(train_losses, label='Train Loss')\n",
    "plt.plot(val_losses, label='Validation Loss')\n",
    "plt.xlabel('Epoch')\n",
    "plt.ylabel('Loss')\n",
    "plt.legend()\n",
    "plt.show()"
   ]
  },
  {
   "cell_type": "markdown",
   "metadata": {},
   "source": [
    "## Improved LeNet5"
   ]
  },
  {
   "cell_type": "code",
   "execution_count": 14,
   "metadata": {},
   "outputs": [
    {
     "name": "stdout",
     "output_type": "stream",
     "text": [
      "----------------------------------------------------------------\n",
      "        Layer (type)               Output Shape         Param #\n",
      "================================================================\n",
      "            Conv2d-1            [-1, 6, 28, 28]             156\n",
      "       BatchNorm2d-2            [-1, 6, 28, 28]              12\n",
      "            Conv2d-3           [-1, 16, 10, 10]           2,416\n",
      "       BatchNorm2d-4           [-1, 16, 10, 10]              32\n",
      "            Linear-5                  [-1, 120]          48,120\n",
      "           Dropout-6                  [-1, 120]               0\n",
      "            Linear-7                   [-1, 84]          10,164\n",
      "           Dropout-8                   [-1, 84]               0\n",
      "            Linear-9                   [-1, 10]             850\n",
      "================================================================\n",
      "Total params: 61,750\n",
      "Trainable params: 61,750\n",
      "Non-trainable params: 0\n",
      "----------------------------------------------------------------\n",
      "Input size (MB): 0.00\n",
      "Forward/backward pass size (MB): 0.10\n",
      "Params size (MB): 0.24\n",
      "Estimated Total Size (MB): 0.34\n",
      "----------------------------------------------------------------\n"
     ]
    }
   ],
   "source": [
    "class ImprovedCNN(nn.Module):\n",
    "    def __init__(self):\n",
    "        super(ImprovedCNN, self).__init__()\n",
    "        self.conv1 = nn.Conv2d(1, 6, 5)  # same as LeNet-5\n",
    "        self.bn1 = nn.BatchNorm2d(6) # improvement over LeNet-5\n",
    "        self.conv2 = nn.Conv2d(6, 16, 5)\n",
    "        self.bn2 = nn.BatchNorm2d(16)\n",
    "        self.fc1 = nn.Linear(16*5*5, 120)\n",
    "        self.dropout1 = nn.Dropout(0.5)\n",
    "        self.fc2 = nn.Linear(120, 84)\n",
    "        self.dropout2 = nn.Dropout(0.5)\n",
    "        self.fc3 = nn.Linear(84, 10)\n",
    "\n",
    "    def forward(self, x):\n",
    "        x = F.relu(self.bn1(self.conv1(x)))\n",
    "        x = F.max_pool2d(x, 2)\n",
    "        x = F.relu(self.bn2(self.conv2(x)))\n",
    "        x = F.max_pool2d(x, 2)\n",
    "        x = x.view(-1, 16*5*5)\n",
    "        x = F.relu(self.fc1(x))\n",
    "        x = self.dropout1(x)\n",
    "        x = F.relu(self.fc2(x))\n",
    "        x = self.dropout2(x)\n",
    "        x = self.fc3(x)\n",
    "        return x\n",
    "\n",
    "model2 = ImprovedCNN().to(device)\n",
    "\n",
    "summary(model2, input_size=(1, 32, 32))"
   ]
  },
  {
   "cell_type": "code",
   "execution_count": 17,
   "metadata": {},
   "outputs": [
    {
     "name": "stdout",
     "output_type": "stream",
     "text": [
      "Forward OK. Loss: 2.3620314598083496\n",
      "Backward OK.\n",
      "Optimizer step OK.\n"
     ]
    }
   ],
   "source": [
    "def test_model(model, dataloader, criterion, optimizer, device='cuda'):\n",
    "    model.train()\n",
    "    for imgs, lbls in dataloader:\n",
    "        imgs, lbls = imgs.to(device), lbls.to(device)\n",
    "        optimizer.zero_grad()\n",
    "        outputs = model(imgs)\n",
    "        loss = criterion(outputs, lbls)\n",
    "        print(\"Forward OK. Loss:\", loss.item())\n",
    "        loss.backward()\n",
    "        print(\"Backward OK.\")\n",
    "        optimizer.step()\n",
    "        print(\"Optimizer step OK.\")\n",
    "        break  # only one batch\n",
    "test_model(model2, trainloader, criterion, optimizer, device)"
   ]
  },
  {
   "cell_type": "markdown",
   "metadata": {},
   "source": [
    "## Training Improved LeNet5"
   ]
  },
  {
   "cell_type": "code",
   "execution_count": 20,
   "metadata": {},
   "outputs": [
    {
     "name": "stdout",
     "output_type": "stream",
     "text": [
      "Epoch [1/5], Step [400/469], Train Loss: 0.2048\n",
      "Validation - Epoch [1/5], Test Loss: 0.0674, Test Accuracy: 97.90%\n",
      "Epoch [1/5], Average Train Loss: 0.3197\n",
      "Learning rate adjusted to: 0.004000\n",
      "Epoch [2/5], Step [400/469], Train Loss: 0.2547\n",
      "Validation - Epoch [2/5], Test Loss: 0.0592, Test Accuracy: 98.20%\n",
      "Epoch [2/5], Average Train Loss: 0.1367\n",
      "Learning rate adjusted to: 0.004002\n",
      "Epoch [3/5], Step [400/469], Train Loss: 0.1209\n",
      "Validation - Epoch [3/5], Test Loss: 0.0459, Test Accuracy: 98.58%\n",
      "Epoch [3/5], Average Train Loss: 0.1107\n",
      "Learning rate adjusted to: 0.004004\n",
      "Epoch [4/5], Step [400/469], Train Loss: 0.0535\n",
      "Validation - Epoch [4/5], Test Loss: 0.0423, Test Accuracy: 98.61%\n",
      "Epoch [4/5], Average Train Loss: 0.0931\n",
      "Learning rate adjusted to: 0.004008\n",
      "Epoch [5/5], Step [400/469], Train Loss: 0.0444\n",
      "Validation - Epoch [5/5], Test Loss: 0.0382, Test Accuracy: 98.81%\n",
      "Epoch [5/5], Average Train Loss: 0.0883\n",
      "Learning rate adjusted to: 0.004012\n"
     ]
    }
   ],
   "source": [
    "# delete stuff from previous training and empty cache\n",
    "# del optimizer, criterion, model, scheduler \n",
    "# torch.cuda.empty_cache()\n",
    "\n",
    "# everything is same except model they are just re-instantiated\n",
    "\n",
    "optimizer = torch.optim.Adam(model2.parameters(), lr=lr, betas=(0.9, 0.999), weight_decay=1e-4)\n",
    "criterion = nn.CrossEntropyLoss()\n",
    "\n",
    "scheduler = OneCycleLR(\n",
    "    optimizer, \n",
    "    max_lr=lr*10,\n",
    "    total_steps=num_epochs * len(trainloader),\n",
    "    pct_start=0.3, \n",
    "    anneal_strategy='cos'\n",
    ")\n",
    "\n",
    "train_losses, val_losses, val_accuracies = train_model(model2, trainloader, testloader, criterion, optimizer, scheduler=scheduler, num_epochs=num_epochs)"
   ]
  },
  {
   "cell_type": "code",
   "execution_count": 21,
   "metadata": {},
   "outputs": [
    {
     "data": {
      "image/png": "[encoded data removed]",
      "text/plain": [
       "<Figure size 640x480 with 1 Axes>"
      ]
     },
     "metadata": {},
     "output_type": "display_data"
    }
   ],
   "source": [
    "plt.plot(train_losses, label='Train Loss')\n",
    "plt.plot(val_losses, label='Validation Loss')\n",
    "plt.xlabel('Epoch')\n",
    "plt.ylabel('Loss')\n",
    "plt.legend()\n",
    "plt.show()"
   ]
  },
  {
   "cell_type": "markdown",
   "metadata": {},
   "source": [
    "## ResNet18"
   ]
  },
  {
   "cell_type": "code",
   "execution_count": 24,
   "metadata": {},
   "outputs": [],
   "source": [
    "class MNISTResNet18(nn.Module):\n",
    "    def __init__(self):\n",
    "        super(MNISTResNet18, self).__init__()\n",
    "        self.resnet = tv.models.resnet18(pretrained=False)\n",
    "        # normally resnet18 excepts 3 input channel so we change it with 1\n",
    "        self.resnet.conv1 = nn.Conv2d(1, 64, kernel_size=7, stride=2, padding=3, bias=False)\n",
    "        self.resnet.fc = nn.Linear(self.resnet.fc.in_features, 10)\n",
    "\n",
    "    def forward(self, x):\n",
    "        return self.resnet(x)"
   ]
  },
  {
   "cell_type": "code",
   "execution_count": 25,
   "metadata": {},
   "outputs": [
    {
     "name": "stderr",
     "output_type": "stream",
     "text": [
      "c:\\Users\\baran\\AppData\\Local\\Programs\\Python\\Python310\\lib\\site-packages\\torchvision\\models\\_utils.py:208: UserWarning: The parameter 'pretrained' is deprecated since 0.13 and may be removed in the future, please use 'weights' instead.\n",
      "  warnings.warn(\n",
      "c:\\Users\\baran\\AppData\\Local\\Programs\\Python\\Python310\\lib\\site-packages\\torchvision\\models\\_utils.py:223: UserWarning: Arguments other than a weight enum or `None` for 'weights' are deprecated since 0.13 and may be removed in the future. The current behavior is equivalent to passing `weights=None`.\n",
      "  warnings.warn(msg)\n"
     ]
    },
    {
     "name": "stdout",
     "output_type": "stream",
     "text": [
      "----------------------------------------------------------------\n",
      "        Layer (type)               Output Shape         Param #\n",
      "================================================================\n",
      "            Conv2d-1           [-1, 64, 16, 16]           3,136\n",
      "       BatchNorm2d-2           [-1, 64, 16, 16]             128\n",
      "              ReLU-3           [-1, 64, 16, 16]               0\n",
      "         MaxPool2d-4             [-1, 64, 8, 8]               0\n",
      "            Conv2d-5             [-1, 64, 8, 8]          36,864\n",
      "       BatchNorm2d-6             [-1, 64, 8, 8]             128\n",
      "              ReLU-7             [-1, 64, 8, 8]               0\n",
      "            Conv2d-8             [-1, 64, 8, 8]          36,864\n",
      "       BatchNorm2d-9             [-1, 64, 8, 8]             128\n",
      "             ReLU-10             [-1, 64, 8, 8]               0\n",
      "       BasicBlock-11             [-1, 64, 8, 8]               0\n",
      "           Conv2d-12             [-1, 64, 8, 8]          36,864\n",
      "      BatchNorm2d-13             [-1, 64, 8, 8]             128\n",
      "             ReLU-14             [-1, 64, 8, 8]               0\n",
      "           Conv2d-15             [-1, 64, 8, 8]          36,864\n",
      "      BatchNorm2d-16             [-1, 64, 8, 8]             128\n",
      "             ReLU-17             [-1, 64, 8, 8]               0\n",
      "       BasicBlock-18             [-1, 64, 8, 8]               0\n",
      "           Conv2d-19            [-1, 128, 4, 4]          73,728\n",
      "      BatchNorm2d-20            [-1, 128, 4, 4]             256\n",
      "             ReLU-21            [-1, 128, 4, 4]               0\n",
      "           Conv2d-22            [-1, 128, 4, 4]         147,456\n",
      "      BatchNorm2d-23            [-1, 128, 4, 4]             256\n",
      "           Conv2d-24            [-1, 128, 4, 4]           8,192\n",
      "      BatchNorm2d-25            [-1, 128, 4, 4]             256\n",
      "             ReLU-26            [-1, 128, 4, 4]               0\n",
      "       BasicBlock-27            [-1, 128, 4, 4]               0\n",
      "           Conv2d-28            [-1, 128, 4, 4]         147,456\n",
      "      BatchNorm2d-29            [-1, 128, 4, 4]             256\n",
      "             ReLU-30            [-1, 128, 4, 4]               0\n",
      "           Conv2d-31            [-1, 128, 4, 4]         147,456\n",
      "      BatchNorm2d-32            [-1, 128, 4, 4]             256\n",
      "             ReLU-33            [-1, 128, 4, 4]               0\n",
      "       BasicBlock-34            [-1, 128, 4, 4]               0\n",
      "           Conv2d-35            [-1, 256, 2, 2]         294,912\n",
      "      BatchNorm2d-36            [-1, 256, 2, 2]             512\n",
      "             ReLU-37            [-1, 256, 2, 2]               0\n",
      "           Conv2d-38            [-1, 256, 2, 2]         589,824\n",
      "      BatchNorm2d-39            [-1, 256, 2, 2]             512\n",
      "           Conv2d-40            [-1, 256, 2, 2]          32,768\n",
      "      BatchNorm2d-41            [-1, 256, 2, 2]             512\n",
      "             ReLU-42            [-1, 256, 2, 2]               0\n",
      "       BasicBlock-43            [-1, 256, 2, 2]               0\n",
      "           Conv2d-44            [-1, 256, 2, 2]         589,824\n",
      "      BatchNorm2d-45            [-1, 256, 2, 2]             512\n",
      "             ReLU-46            [-1, 256, 2, 2]               0\n",
      "           Conv2d-47            [-1, 256, 2, 2]         589,824\n",
      "      BatchNorm2d-48            [-1, 256, 2, 2]             512\n",
      "             ReLU-49            [-1, 256, 2, 2]               0\n",
      "       BasicBlock-50            [-1, 256, 2, 2]               0\n",
      "           Conv2d-51            [-1, 512, 1, 1]       1,179,648\n",
      "      BatchNorm2d-52            [-1, 512, 1, 1]           1,024\n",
      "             ReLU-53            [-1, 512, 1, 1]               0\n",
      "           Conv2d-54            [-1, 512, 1, 1]       2,359,296\n",
      "      BatchNorm2d-55            [-1, 512, 1, 1]           1,024\n",
      "           Conv2d-56            [-1, 512, 1, 1]         131,072\n",
      "      BatchNorm2d-57            [-1, 512, 1, 1]           1,024\n",
      "             ReLU-58            [-1, 512, 1, 1]               0\n",
      "       BasicBlock-59            [-1, 512, 1, 1]               0\n",
      "           Conv2d-60            [-1, 512, 1, 1]       2,359,296\n",
      "      BatchNorm2d-61            [-1, 512, 1, 1]           1,024\n",
      "             ReLU-62            [-1, 512, 1, 1]               0\n",
      "           Conv2d-63            [-1, 512, 1, 1]       2,359,296\n",
      "      BatchNorm2d-64            [-1, 512, 1, 1]           1,024\n",
      "             ReLU-65            [-1, 512, 1, 1]               0\n",
      "       BasicBlock-66            [-1, 512, 1, 1]               0\n",
      "AdaptiveAvgPool2d-67            [-1, 512, 1, 1]               0\n",
      "           Linear-68                   [-1, 10]           5,130\n",
      "           ResNet-69                   [-1, 10]               0\n",
      "================================================================\n",
      "Total params: 11,175,370\n",
      "Trainable params: 11,175,370\n",
      "Non-trainable params: 0\n",
      "----------------------------------------------------------------\n",
      "Input size (MB): 0.00\n",
      "Forward/backward pass size (MB): 1.29\n",
      "Params size (MB): 42.63\n",
      "Estimated Total Size (MB): 43.92\n",
      "----------------------------------------------------------------\n"
     ]
    }
   ],
   "source": [
    "resnet18 = MNISTResNet18().to(device)\n",
    "summary(resnet18, input_size=(1, 32, 32))"
   ]
  },
  {
   "cell_type": "markdown",
   "metadata": {},
   "source": [
    "## Training Resnet18"
   ]
  },
  {
   "cell_type": "code",
   "execution_count": 26,
   "metadata": {},
   "outputs": [
    {
     "name": "stdout",
     "output_type": "stream",
     "text": [
      "Epoch [1/5], Step [400/469], Train Loss: 0.0526\n",
      "Validation - Epoch [1/5], Test Loss: 0.0710, Test Accuracy: 97.84%\n",
      "Epoch [1/5], Average Train Loss: 0.1404\n",
      "Learning rate adjusted to: 0.004000\n",
      "Epoch [2/5], Step [400/469], Train Loss: 0.1401\n",
      "Validation - Epoch [2/5], Test Loss: 0.0448, Test Accuracy: 98.71%\n",
      "Epoch [2/5], Average Train Loss: 0.0641\n",
      "Learning rate adjusted to: 0.004002\n",
      "Epoch [3/5], Step [400/469], Train Loss: 0.0207\n",
      "Validation - Epoch [3/5], Test Loss: 0.0582, Test Accuracy: 98.18%\n",
      "Epoch [3/5], Average Train Loss: 0.0565\n",
      "Learning rate adjusted to: 0.004004\n",
      "Epoch [4/5], Step [400/469], Train Loss: 0.0237\n",
      "Validation - Epoch [4/5], Test Loss: 0.0584, Test Accuracy: 98.22%\n",
      "Epoch [4/5], Average Train Loss: 0.0501\n",
      "Learning rate adjusted to: 0.004008\n",
      "Epoch [5/5], Step [400/469], Train Loss: 0.0160\n",
      "Validation - Epoch [5/5], Test Loss: 0.0508, Test Accuracy: 98.33%\n",
      "Epoch [5/5], Average Train Loss: 0.0497\n",
      "Learning rate adjusted to: 0.004012\n"
     ]
    }
   ],
   "source": [
    "# delete stuff from previous training and empty cache\n",
    "del optimizer, criterion, model2, scheduler \n",
    "torch.cuda.empty_cache()\n",
    "\n",
    "# everything is same except model they are just re-instantiated\n",
    "\n",
    "optimizer = torch.optim.Adam(resnet18.parameters(), lr=lr, betas=(0.9, 0.999), weight_decay=1e-4)\n",
    "criterion = nn.CrossEntropyLoss()\n",
    "\n",
    "scheduler = OneCycleLR(\n",
    "    optimizer, \n",
    "    max_lr=lr*10,\n",
    "    total_steps=num_epochs * len(trainloader),\n",
    "    pct_start=0.3, \n",
    "    anneal_strategy='cos'\n",
    ")\n",
    "\n",
    "train_losses, val_losses, val_accuracies = train_model(resnet18, trainloader, testloader, criterion, optimizer, scheduler=scheduler, num_epochs=num_epochs)"
   ]
  },
  {
   "cell_type": "code",
   "execution_count": 27,
   "metadata": {},
   "outputs": [
    {
     "data": {
      "image/png": "[encoded data removed]",
      "text/plain": [
       "<Figure size 640x480 with 1 Axes>"
      ]
     },
     "metadata": {},
     "output_type": "display_data"
    }
   ],
   "source": [
    "plt.plot(train_losses, label='Train Loss')\n",
    "plt.plot(val_losses, label='Validation Loss')\n",
    "plt.xlabel('Epoch')\n",
    "plt.ylabel('Loss')\n",
    "plt.legend()\n",
    "plt.show()"
   ]
  },
  {
   "cell_type": "markdown",
   "metadata": {},
   "source": [
    "## Hybrid Model"
   ]
  },
  {
   "cell_type": "code",
   "execution_count": null,
   "metadata": {},
   "outputs": [],
   "source": [
    "def extract_features(model, dataloader, features_file_name, labels_file_name, device ='cuda'):\n",
    "    model.eval()\n",
    "    features = []\n",
    "    labels = []\n",
    "    with torch.inference_mode():\n",
    "        for imgs, lbls in dataloader:\n",
    "            imgs = imgs.to(device)\n",
    "            \n",
    "            # get features by running forward pass and extracting before final layer\n",
    "            if hasattr(model, 'fc2'):\n",
    "                # for our custom CNN with fc2 (which is not preffered)\n",
    "                x = imgs.view(imgs.size(0), -1)\n",
    "                x = model.fc1(x)\n",
    "                feats = model.fc2(x).detach().cpu().numpy()\n",
    "            else:\n",
    "                # for any model with a final fc layer (including ResNet)\n",
    "                # get the model's modules as a list\n",
    "                modules = list(model.children())\n",
    "                # remove the last layer (classifier)\n",
    "                feature_extractor = torch.nn.Sequential(*modules[:-1])\n",
    "                # extract features\n",
    "                x = feature_extractor(imgs)\n",
    "                feats = x.reshape(x.size(0), -1).detach().cpu().numpy()\n",
    "                \n",
    "            features.append(feats)\n",
    "            labels.append(lbls.numpy())\n",
    "            \n",
    "    features = np.concatenate(features)\n",
    "    labels = np.concatenate(labels)\n",
    "    np.save(features_file_name, features)\n",
    "    np.save(labels_file_name, labels)\n",
    "    print('Features and labels saved as .npy')\n",
    "    return features, labels"
   ]
  },
  {
   "cell_type": "code",
   "execution_count": 44,
   "metadata": {},
   "outputs": [
    {
     "name": "stdout",
     "output_type": "stream",
     "text": [
      "Features and labels saved as .npy\n"
     ]
    }
   ],
   "source": [
    "X_train, y_train = extract_features(resnet18, trainloader, 'features_train.npy', 'labels_train.npy') # create train set for canonical ML model."
   ]
  },
  {
   "cell_type": "code",
   "execution_count": 45,
   "metadata": {},
   "outputs": [
    {
     "name": "stdout",
     "output_type": "stream",
     "text": [
      "Features and labels saved as .npy\n"
     ]
    }
   ],
   "source": [
    "X_test, y_test = extract_features(resnet18, testloader, 'features_test.npy', 'labels_test.npy')"
   ]
  },
  {
   "cell_type": "code",
   "execution_count": 48,
   "metadata": {},
   "outputs": [
    {
     "name": "stdout",
     "output_type": "stream",
     "text": [
      "Random Forest accuracy: 0.9702\n"
     ]
    }
   ],
   "source": [
    "from sklearn.ensemble import RandomForestClassifier\n",
    "from sklearn.metrics import accuracy_score\n",
    "\n",
    "X_train = np.load('features_train.npy')\n",
    "y_train = np.load('labels_train.npy')\n",
    "X_test = np.load('features_test.npy')\n",
    "y_test = np.load('labels_test.npy')\n",
    "\n",
    "clf = RandomForestClassifier(n_estimators=100, n_jobs=-1, random_state=42)\n",
    "clf.fit(X_train, y_train)\n",
    "y_pred = clf.predict(X_test)\n",
    "print('Random Forest accuracy:', accuracy_score(y_test, y_pred))"
   ]
  },
  {
   "cell_type": "markdown",
   "metadata": {},
   "source": [
    "# THE END"
   ]
  }
 ],
 "metadata": {
  "kernelspec": {
   "display_name": "Python 3",
   "language": "python",
   "name": "python3"
  },
  "language_info": {
   "codemirror_mode": {
    "name": "ipython",
    "version": 3
   },
   "file_extension": ".py",
   "mimetype": "text/x-python",
   "name": "python",
   "nbconvert_exporter": "python",
   "pygments_lexer": "ipython3",
   "version": "3.10.11"
  }
 },
 "nbformat": 4,
 "nbformat_minor": 2
}
